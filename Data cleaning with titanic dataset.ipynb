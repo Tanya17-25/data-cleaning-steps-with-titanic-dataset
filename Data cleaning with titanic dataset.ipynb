{
 "cells": [
  {
   "metadata": {},
   "cell_type": "markdown",
   "source": "Data cleaning steps on titanic data",
   "id": "a280fa6313935c4b"
  },
  {
   "metadata": {
    "ExecuteTime": {
     "end_time": "2025-10-07T04:26:35.171028Z",
     "start_time": "2025-10-07T04:26:35.163283Z"
    }
   },
   "cell_type": "code",
   "source": [
    "# Titanic Data Cleaning & Preprocessing Notebook\n",
    "# Below is a step-by-step cleaning pipeline with comments.\n",
    "\n",
    "import pandas as pd\n",
    "import numpy as np\n",
    "import matplotlib.pyplot as plt\n",
    "import seaborn as sns"
   ],
   "id": "ae9c9259ff9d0915",
   "outputs": [],
   "execution_count": 1
  },
  {
   "metadata": {
    "ExecuteTime": {
     "end_time": "2025-10-07T04:26:56.390101Z",
     "start_time": "2025-10-07T04:26:56.379978Z"
    }
   },
   "cell_type": "code",
   "source": [
    "# For reproducibility (if random operations are used later)\n",
    "RANDOM_SEED = 42\n",
    "np.random.seed(RANDOM_SEED)"
   ],
   "id": "7f71e84ac7fb6718",
   "outputs": [],
   "execution_count": 2
  },
  {
   "metadata": {
    "ExecuteTime": {
     "end_time": "2025-10-07T04:27:00.394192Z",
     "start_time": "2025-10-07T04:27:00.296590Z"
    }
   },
   "cell_type": "code",
   "source": [
    "# %%\n",
    "# --- Step 1: Load data ---\n",
    "df = pd.read_csv(\"C:/Users/joshi/OneDrive/Desktop/Projects/titanic/titanic.csv\")  # or 'Titanic-Dataset.csv' depending on your file\n",
    "print(\"Initial data info:\")\n",
    "print(df.info())\n",
    "print(\"\\nFirst few rows:\")\n",
    "print(df.head())"
   ],
   "id": "4506e5c58e8435ab",
   "outputs": [
    {
     "name": "stdout",
     "output_type": "stream",
     "text": [
      "Initial data info:\n",
      "<class 'pandas.core.frame.DataFrame'>\n",
      "RangeIndex: 891 entries, 0 to 890\n",
      "Data columns (total 12 columns):\n",
      " #   Column       Non-Null Count  Dtype  \n",
      "---  ------       --------------  -----  \n",
      " 0   PassengerId  891 non-null    int64  \n",
      " 1   Survived     891 non-null    int64  \n",
      " 2   Pclass       891 non-null    int64  \n",
      " 3   Name         891 non-null    object \n",
      " 4   Sex          891 non-null    object \n",
      " 5   Age          714 non-null    float64\n",
      " 6   SibSp        891 non-null    int64  \n",
      " 7   Parch        891 non-null    int64  \n",
      " 8   Ticket       891 non-null    object \n",
      " 9   Fare         891 non-null    float64\n",
      " 10  Cabin        204 non-null    object \n",
      " 11  Embarked     889 non-null    object \n",
      "dtypes: float64(2), int64(5), object(5)\n",
      "memory usage: 83.7+ KB\n",
      "None\n",
      "\n",
      "First few rows:\n",
      "   PassengerId  Survived  Pclass  \\\n",
      "0            1         0       3   \n",
      "1            2         1       1   \n",
      "2            3         1       3   \n",
      "3            4         1       1   \n",
      "4            5         0       3   \n",
      "\n",
      "                                                Name     Sex   Age  SibSp  \\\n",
      "0                            Braund, Mr. Owen Harris    male  22.0      1   \n",
      "1  Cumings, Mrs. John Bradley (Florence Briggs Th...  female  38.0      1   \n",
      "2                             Heikkinen, Miss. Laina  female  26.0      0   \n",
      "3       Futrelle, Mrs. Jacques Heath (Lily May Peel)  female  35.0      1   \n",
      "4                           Allen, Mr. William Henry    male  35.0      0   \n",
      "\n",
      "   Parch            Ticket     Fare Cabin Embarked  \n",
      "0      0         A/5 21171   7.2500   NaN        S  \n",
      "1      0          PC 17599  71.2833   C85        C  \n",
      "2      0  STON/O2. 3101282   7.9250   NaN        S  \n",
      "3      0            113803  53.1000  C123        S  \n",
      "4      0            373450   8.0500   NaN        S  \n"
     ]
    }
   ],
   "execution_count": 3
  },
  {
   "metadata": {
    "ExecuteTime": {
     "end_time": "2025-10-07T04:27:28.856445Z",
     "start_time": "2025-10-07T04:27:28.827411Z"
    }
   },
   "cell_type": "code",
   "source": [
    "# %%\n",
    "# --- Step 2: Check for duplicates ---\n",
    "dup_count = df.duplicated().sum()\n",
    "print(f\"\\nNumber of duplicate rows: {dup_count}\")\n",
    "\n",
    "if dup_count > 0:\n",
    "    df = df.drop_duplicates().reset_index(drop=True)\n",
    "    print(\"Duplicates dropped. New shape:\", df.shape)\n"
   ],
   "id": "29e573c4671494cb",
   "outputs": [
    {
     "name": "stdout",
     "output_type": "stream",
     "text": [
      "\n",
      "Number of duplicate rows: 0\n"
     ]
    }
   ],
   "execution_count": 4
  },
  {
   "metadata": {
    "ExecuteTime": {
     "end_time": "2025-10-07T04:28:01.881788Z",
     "start_time": "2025-10-07T04:28:01.869396Z"
    }
   },
   "cell_type": "code",
   "source": [
    "# %%\n",
    "# --- Step 3: Identify categorical vs numerical columns ---\n",
    "cat_cols = [c for c in df.columns if df[c].dtype == 'object']\n",
    "num_cols = [c for c in df.columns if df[c].dtype in ['int64', 'float64']]\n",
    "\n",
    "print(\"\\nCategorical columns:\", cat_cols)\n",
    "print(\"Numerical columns:\", num_cols)"
   ],
   "id": "cc052a40f963ea59",
   "outputs": [
    {
     "name": "stdout",
     "output_type": "stream",
     "text": [
      "\n",
      "Categorical columns: ['Name', 'Sex', 'Ticket', 'Cabin', 'Embarked']\n",
      "Numerical columns: ['PassengerId', 'Survived', 'Pclass', 'Age', 'SibSp', 'Parch', 'Fare']\n"
     ]
    }
   ],
   "execution_count": 5
  },
  {
   "metadata": {
    "ExecuteTime": {
     "end_time": "2025-10-07T04:28:04.378939Z",
     "start_time": "2025-10-07T04:28:04.361179Z"
    }
   },
   "cell_type": "code",
   "source": [
    "# %%\n",
    "# --- Step 4: Unique value counts for categorical columns ---\n",
    "print(\"\\nUnique counts in categorical columns:\")\n",
    "print(df[cat_cols].nunique())"
   ],
   "id": "ff8cfa93ebcde7d1",
   "outputs": [
    {
     "name": "stdout",
     "output_type": "stream",
     "text": [
      "\n",
      "Unique counts in categorical columns:\n",
      "Name        891\n",
      "Sex           2\n",
      "Ticket      681\n",
      "Cabin       147\n",
      "Embarked      3\n",
      "dtype: int64\n"
     ]
    }
   ],
   "execution_count": 6
  },
  {
   "metadata": {
    "ExecuteTime": {
     "end_time": "2025-10-07T04:28:06.850611Z",
     "start_time": "2025-10-07T04:28:06.837144Z"
    }
   },
   "cell_type": "code",
   "source": [
    "# %%\n",
    "# --- Step 5: Missing value percentages ---\n",
    "missing_pct = (df.isnull().sum() / len(df) * 100).round(2)\n",
    "print(\"\\nMissing value percentages:\")\n",
    "print(missing_pct)"
   ],
   "id": "d32b10bc4b78a79b",
   "outputs": [
    {
     "name": "stdout",
     "output_type": "stream",
     "text": [
      "\n",
      "Missing value percentages:\n",
      "PassengerId     0.00\n",
      "Survived        0.00\n",
      "Pclass          0.00\n",
      "Name            0.00\n",
      "Sex             0.00\n",
      "Age            19.87\n",
      "SibSp           0.00\n",
      "Parch           0.00\n",
      "Ticket          0.00\n",
      "Fare            0.00\n",
      "Cabin          77.10\n",
      "Embarked        0.22\n",
      "dtype: float64\n"
     ]
    }
   ],
   "execution_count": 7
  },
  {
   "metadata": {
    "ExecuteTime": {
     "end_time": "2025-10-07T04:28:25.834628Z",
     "start_time": "2025-10-07T04:28:25.815051Z"
    }
   },
   "cell_type": "code",
   "source": [
    "# %%\n",
    "# --- Step 6: Drop or impute heavily missing / low-signal columns ---\n",
    "# Common practice: drop Name, Ticket, Cabin\n",
    "df_clean = df.drop(columns=['Name', 'Ticket', 'Cabin'])\n",
    "print(\"\\nDropped Name, Ticket, Cabin. Shape:\", df_clean.shape)"
   ],
   "id": "88d9e743389446d4",
   "outputs": [
    {
     "name": "stdout",
     "output_type": "stream",
     "text": [
      "\n",
      "Dropped Name, Ticket, Cabin. Shape: (891, 9)\n"
     ]
    }
   ],
   "execution_count": 8
  },
  {
   "metadata": {
    "ExecuteTime": {
     "end_time": "2025-10-07T04:29:14.970336Z",
     "start_time": "2025-10-07T04:29:14.951390Z"
    }
   },
   "cell_type": "code",
   "source": [
    "\n",
    "# Drop rows where Embarked is missing (if only a few)\n",
    "embarked_missing = df_clean['Embarked'].isnull().sum()\n",
    "print(\"Number of missing Embarked before drop:\", embarked_missing)\n",
    "if embarked_missing > 0:\n",
    "    df_clean = df_clean.dropna(subset=['Embarked'])\n",
    "    print(\"Dropped rows with missing Embarked. New shape:\", df_clean.shape)\n",
    "\n",
    "# Impute Age (using median, more robust than mean if skewed)\n",
    "age_median = df_clean['Age'].median()\n",
    "df_clean['Age'] = df_clean['Age'].fillna(age_median)\n",
    "\n",
    "# Impute Fare (if any missing)\n",
    "fare_median = df_clean['Fare'].median()\n",
    "df_clean['Fare'] = df_clean['Fare'].fillna(fare_median)\n",
    "\n",
    "# Impute Embarked using its mode\n",
    "embarked_mode = df_clean['Embarked'].mode()[0]\n",
    "df_clean['Embarked'] = df_clean['Embarked'].fillna(embarked_mode)\n",
    "\n",
    "# Double-check missingness\n",
    "print(\"\\nAfter imputation, missing counts:\")\n",
    "print(df_clean.isnull().sum())\n"
   ],
   "id": "8466a48e5562845",
   "outputs": [
    {
     "name": "stdout",
     "output_type": "stream",
     "text": [
      "Number of missing Embarked before drop: 0\n",
      "\n",
      "After imputation, missing counts:\n",
      "PassengerId    0\n",
      "Survived       0\n",
      "Pclass         0\n",
      "Sex            0\n",
      "Age            0\n",
      "SibSp          0\n",
      "Parch          0\n",
      "Fare           0\n",
      "Embarked       0\n",
      "dtype: int64\n"
     ]
    }
   ],
   "execution_count": 10
  },
  {
   "metadata": {
    "ExecuteTime": {
     "end_time": "2025-10-07T04:30:03.006226Z",
     "start_time": "2025-10-07T04:30:02.347988Z"
    }
   },
   "cell_type": "code",
   "source": [
    "# %%\n",
    "# --- Step 7: Visualize outliers via boxplot for “Age” and maybe “Fare” ---\n",
    "plt.figure(figsize=(8, 3))\n",
    "sns.boxplot(x=df_clean['Age'])\n",
    "plt.title(\"Box plot of Age\")\n",
    "plt.show()\n",
    "\n",
    "plt.figure(figsize=(8, 3))\n",
    "sns.boxplot(x=df_clean['Fare'])\n",
    "plt.title(\"Box plot of Fare\")\n",
    "plt.show()"
   ],
   "id": "214a5234d685c88c",
   "outputs": [
    {
     "data": {
      "text/plain": [
       "<Figure size 800x300 with 1 Axes>"
      ],
      "image/png": "[encoded data removed]"
     },
     "metadata": {},
     "output_type": "display_data"
    },
    {
     "data": {
      "text/plain": [
       "<Figure size 800x300 with 1 Axes>"
      ],
      "image/png": "[encoded data removed]"
     },
     "metadata": {},
     "output_type": "display_data"
    }
   ],
   "execution_count": 11
  },
  {
   "metadata": {
    "ExecuteTime": {
     "end_time": "2025-10-07T04:30:06.661703Z",
     "start_time": "2025-10-07T04:30:06.642551Z"
    }
   },
   "cell_type": "code",
   "source": [
    "# %%\n",
    "# --- Step 8: Define outlier bounds (for Age) and remove them ---\n",
    "mean_age = df_clean['Age'].mean()\n",
    "std_age = df_clean['Age'].std()\n",
    "lower = mean_age - 2 * std_age\n",
    "upper = mean_age + 2 * std_age\n",
    "\n",
    "print(f\"Age outlier bounds: lower = {lower:.2f}, upper = {upper:.2f}\")\n",
    "\n",
    "df_no_out = df_clean[(df_clean['Age'] >= lower) & (df_clean['Age'] <= upper)].copy()\n",
    "print(\"Shape after removing Age outliers:\", df_no_out.shape)"
   ],
   "id": "a889bb2c90ed9564",
   "outputs": [
    {
     "name": "stdout",
     "output_type": "stream",
     "text": [
      "Age outlier bounds: lower = 3.35, upper = 55.29\n",
      "Shape after removing Age outliers: (820, 9)\n"
     ]
    }
   ],
   "execution_count": 12
  },
  {
   "metadata": {
    "ExecuteTime": {
     "end_time": "2025-10-07T04:30:20.475316Z",
     "start_time": "2025-10-07T04:30:20.455673Z"
    }
   },
   "cell_type": "code",
   "source": [
    "# (Optional) you could also filter outliers on `Fare` using similar logic if needed.\n",
    "# %%\n",
    "# --- Step 9: Re-impute any remaining missing values (if any) ---\n",
    "# (Often none remain after above)\n",
    "df_final = df_no_out.fillna({\n",
    "    'Age': df_no_out['Age'].median(),\n",
    "    'Fare': df_no_out['Fare'].median()\n",
    "})\n",
    "print(\"\\nMissing counts in final dataset:\")\n",
    "print(df_final.isnull().sum())"
   ],
   "id": "86e9ea9038edb649",
   "outputs": [
    {
     "name": "stdout",
     "output_type": "stream",
     "text": [
      "\n",
      "Missing counts in final dataset:\n",
      "PassengerId    0\n",
      "Survived       0\n",
      "Pclass         0\n",
      "Sex            0\n",
      "Age            0\n",
      "SibSp          0\n",
      "Parch          0\n",
      "Fare           0\n",
      "Embarked       0\n",
      "dtype: int64\n"
     ]
    }
   ],
   "execution_count": 13
  },
  {
   "metadata": {
    "ExecuteTime": {
     "end_time": "2025-10-07T04:30:36.465575Z",
     "start_time": "2025-10-07T04:30:36.447049Z"
    }
   },
   "cell_type": "code",
   "source": [
    "# %%\n",
    "# --- Step 10: (Optional) Recompute bounds & further filter if needed ---\n",
    "# (This is more cautious; many pipelines skip this)\n",
    "mean_age2 = df_final['Age'].mean()\n",
    "std_age2 = df_final['Age'].std()\n",
    "lower2 = mean_age2 - 2 * std_age2\n",
    "upper2 = mean_age2 + 2 * std_age2\n",
    "print(f\"Recomputed Age bounds: lower2 = {lower2:.2f}, upper2 = {upper2:.2f}\")\n",
    "\n",
    "df_final2 = df_final[(df_final['Age'] >= lower2) & (df_final['Age'] <= upper2)].copy()\n",
    "print(\"Shape after second pass filtering:\", df_final2.shape)\n",
    "\n",
    "# Use df_final2 forward\n",
    "df_final = df_final2"
   ],
   "id": "2edb5f8cfd82fb07",
   "outputs": [
    {
     "name": "stdout",
     "output_type": "stream",
     "text": [
      "Recomputed Age bounds: lower2 = 8.66, upper2 = 48.85\n",
      "Shape after second pass filtering: (756, 9)\n"
     ]
    }
   ],
   "execution_count": 14
  },
  {
   "metadata": {
    "ExecuteTime": {
     "end_time": "2025-10-07T04:30:50.872385Z",
     "start_time": "2025-10-07T04:30:50.849425Z"
    }
   },
   "cell_type": "code",
   "source": [
    "# %%\n",
    "# --- Step 11: Validate & split into X and y ---\n",
    "print(\"\\nFinal df info:\")\n",
    "print(df_final.info())\n",
    "\n",
    "# Features and target\n",
    "X = df_final[['Pclass', 'Sex', 'Age', 'SibSp', 'Parch', 'Fare', 'Embarked']]\n",
    "y = df_final['Survived']"
   ],
   "id": "3c80c1e27417634c",
   "outputs": [
    {
     "name": "stdout",
     "output_type": "stream",
     "text": [
      "\n",
      "Final df info:\n",
      "<class 'pandas.core.frame.DataFrame'>\n",
      "Index: 756 entries, 0 to 890\n",
      "Data columns (total 9 columns):\n",
      " #   Column       Non-Null Count  Dtype  \n",
      "---  ------       --------------  -----  \n",
      " 0   PassengerId  756 non-null    int64  \n",
      " 1   Survived     756 non-null    int64  \n",
      " 2   Pclass       756 non-null    int64  \n",
      " 3   Sex          756 non-null    object \n",
      " 4   Age          756 non-null    float64\n",
      " 5   SibSp        756 non-null    int64  \n",
      " 6   Parch        756 non-null    int64  \n",
      " 7   Fare         756 non-null    float64\n",
      " 8   Embarked     756 non-null    object \n",
      "dtypes: float64(2), int64(5), object(2)\n",
      "memory usage: 59.1+ KB\n",
      "None\n"
     ]
    }
   ],
   "execution_count": 15
  },
  {
   "metadata": {
    "ExecuteTime": {
     "end_time": "2025-10-07T04:31:10.361464Z",
     "start_time": "2025-10-07T04:31:09.160745Z"
    }
   },
   "cell_type": "code",
   "source": [
    "# %%\n",
    "# --- Step 12: Encode categorical variables and scale numeric features ---\n",
    "from sklearn.preprocessing import StandardScaler, MinMaxScaler\n",
    "\n",
    "# 12a: One-hot encode categorical variables (Sex, Embarked)\n",
    "X = pd.get_dummies(X, columns=['Sex', 'Embarked'], drop_first=True)\n",
    "print(\"\\nAfter get_dummies, sample of X:\")\n",
    "print(X.head())\n",
    "\n",
    "# 12b: Scale numeric columns\n",
    "num_cols = [c for c in X.columns if X[c].dtype in ['int64', 'float64']]\n",
    "\n",
    "# Choose one:\n",
    "scaler = StandardScaler()\n",
    "# Or: scaler = MinMaxScaler(feature_range=(0, 1))\n",
    "\n",
    "X[num_cols] = scaler.fit_transform(X[num_cols])\n",
    "\n",
    "print(\"\\nAfter scaling, sample of X:\")\n",
    "print(X.head())\n"
   ],
   "id": "d09d085f3b0624b2",
   "outputs": [
    {
     "name": "stdout",
     "output_type": "stream",
     "text": [
      "\n",
      "After get_dummies, sample of X:\n",
      "   Pclass   Age  SibSp  Parch     Fare  Sex_male  Embarked_Q  Embarked_S\n",
      "0       3  22.0      1      0   7.2500      True       False        True\n",
      "1       1  38.0      1      0  71.2833     False       False       False\n",
      "2       3  26.0      0      0   7.9250     False       False        True\n",
      "3       1  35.0      1      0  53.1000     False       False        True\n",
      "4       3  35.0      0      0   8.0500      True       False        True\n",
      "\n",
      "After scaling, sample of X:\n",
      "     Pclass       Age     SibSp     Parch      Fare  Sex_male  Embarked_Q  \\\n",
      "0  0.768804 -0.783974  0.513326 -0.409448 -0.460334      True       False   \n",
      "1 -1.683584  1.209080  0.513326 -0.409448  0.800798     False       False   \n",
      "2  0.768804 -0.285711 -0.435511 -0.409448 -0.447040     False       False   \n",
      "3 -1.683584  0.835382  0.513326 -0.409448  0.442679     False       False   \n",
      "4  0.768804  0.835382 -0.435511 -0.409448 -0.444578      True       False   \n",
      "\n",
      "   Embarked_S  \n",
      "0        True  \n",
      "1       False  \n",
      "2        True  \n",
      "3        True  \n",
      "4        True  \n"
     ]
    }
   ],
   "execution_count": 16
  },
  {
   "metadata": {
    "ExecuteTime": {
     "end_time": "2025-10-07T04:32:18.002456Z",
     "start_time": "2025-10-07T04:32:17.000050Z"
    }
   },
   "cell_type": "code",
   "source": [
    "# %%\n",
    "# --- (Optional) Next steps: train/test split, modeling, etc. ---\n",
    "from sklearn.model_selection import train_test_split\n",
    "X_train, X_test, y_train, y_test = train_test_split(\n",
    "    X, y, test_size=0.2, random_state=RANDOM_SEED\n",
    ")\n",
    "\n",
    "print(\"\\nShapes:\")\n",
    "print(\"X_train:\", X_train.shape, \"X_test:\", X_test.shape)\n",
    "print(\"y_train:\", y_train.shape, \"y_test:\", y_test.shape)\n",
    "\n",
    "# You can now proceed to train a classifier, validate, etc.\n"
   ],
   "id": "dda9e846ab2cbcf1",
   "outputs": [
    {
     "name": "stdout",
     "output_type": "stream",
     "text": [
      "\n",
      "Shapes:\n",
      "X_train: (604, 8) X_test: (152, 8)\n",
      "y_train: (604,) y_test: (152,)\n"
     ]
    }
   ],
   "execution_count": 17
  },
  {
   "metadata": {},
   "cell_type": "markdown",
   "source": "-------------------------------------------------------End of notebook-----------------------------------------------------------------------------------",
   "id": "e2e6f4a30a9602b0"
  }
 ],
 "metadata": {
  "kernelspec": {
   "display_name": "Python 3",
   "language": "python",
   "name": "python3"
  },
  "language_info": {
   "codemirror_mode": {
    "name": "ipython",
    "version": 2
   },
   "file_extension": ".py",
   "mimetype": "text/x-python",
   "name": "python",
   "nbconvert_exporter": "python",
   "pygments_lexer": "ipython2",
   "version": "2.7.6"
  }
 },
 "nbformat": 4,
 "nbformat_minor": 5
}
